{
 "cells": [
  {
   "cell_type": "code",
   "execution_count": 1,
   "id": "379a1476-1b86-46cb-a627-015308b25c62",
   "metadata": {},
   "outputs": [],
   "source": [
    "import numpy as np\n",
    "import matplotlib.pyplot as plt\n",
    "from rlxutils import subplots\n",
    "import pandas as pd\n",
    "import sys\n",
    "import os\n",
    "sys.path.append(\"..\")\n",
    "from lib import data\n",
    "import torch\n",
    "torch.manual_seed(13) # Set random seed\n",
    "from torch import nn\n",
    "import numpy as np\n",
    "import torchvision.transforms as transforms\n",
    "from tqdm import tqdm\n",
    "\n",
    "from lib import data\n",
    "from lib import sar\n",
    "from lib import io\n",
    "\n",
    "from torch.utils.data import Dataset\n",
    "from loguru import logger\n",
    "from lib.datamodules.components.patches import PatchesDataset\n",
    "from lib.datamodules.patches import PatchesDataModule\n",
    "from lib.model import mlp_cnn\n",
    "from lib.datamodules import dataset"
   ]
  },
  {
   "cell_type": "code",
   "execution_count": null,
   "id": "ef1d9bc6-99f6-4841-b13a-f48f50e95d34",
   "metadata": {},
   "outputs": [],
   "source": []
  },
  {
   "cell_type": "markdown",
   "id": "00c82d51-e026-490f-80be-7b6242e681ad",
   "metadata": {},
   "source": [
    "# model download\n",
    "\n",
    "- https://sar-recovery.s3.us-west-2.amazonaws.com/models/model_convs5_1024_512_MLP3.npz\n",
    "- https://sar-recovery.s3.us-west-2.amazonaws.com/models/model_convs5_1024_512_MLP3.pt"
   ]
  },
  {
   "cell_type": "code",
   "execution_count": null,
   "id": "8730d731-ad16-4d31-b5c0-3ea0e1af237e",
   "metadata": {},
   "outputs": [],
   "source": []
  },
  {
   "cell_type": "markdown",
   "id": "2234caa8-066f-49d3-a83a-e0313bd2db69",
   "metadata": {},
   "source": [
    "# data params\n"
   ]
  },
  {
   "cell_type": "code",
   "execution_count": 195,
   "id": "72fb7a5c-a6ac-49e3-9d22-b8e47ff608c4",
   "metadata": {},
   "outputs": [],
   "source": [
    "base_path = \"/home/rlx/data/sar-recovery\"\n",
    "#base_path = \"/home/alberto/data/data/RST2/Barcelona\"\n",
    "date_train = '20100520'\n",
    "date_test  = '20120720'\n",
    "\n",
    "#date_test = '20100520'\n",
    "#date_train  = '20120720'\n",
    "\n",
    "window_size = 7\n",
    "\n",
    "model_fname = \"model_convs5_1024_512_MLP3.pt\"\n",
    "model_losses_fname = model_fname.split('.')[0] + \".npz\""
   ]
  },
  {
   "cell_type": "markdown",
   "id": "7a8e7c8a-9454-47d5-a9b1-f95468696bb9",
   "metadata": {},
   "source": [
    "# load data\n"
   ]
  },
  {
   "cell_type": "code",
   "execution_count": 3,
   "id": "b49ae78a-2424-4dc6-afcc-7223779aea5e",
   "metadata": {},
   "outputs": [
    {
     "data": {
      "text/plain": [
       "((4402, 1602, 2, 2), (628, 228, 3, 3))"
      ]
     },
     "execution_count": 3,
     "metadata": {},
     "output_type": "execute_result"
    }
   ],
   "source": [
    "smtr = io.load_bcn_scatter_matrix(base_path, date_train)\n",
    "smts = io.load_bcn_scatter_matrix(base_path, date_test)\n",
    "\n",
    "cmtr = sar.avgpool2D_complex(sar.compute_coherence_matrix(smtr), window_size = window_size)\n",
    "cmts = sar.avgpool2D_complex(sar.compute_coherence_matrix(smts), window_size = window_size)\n",
    "\n",
    "smtr.shape, cmtr.shape"
   ]
  },
  {
   "cell_type": "markdown",
   "id": "fa3507f3-e977-4593-9f1b-022fdb607daf",
   "metadata": {},
   "source": [
    "# create used matrices (without log)\n"
   ]
  },
  {
   "cell_type": "code",
   "execution_count": 4,
   "id": "296087e8-1532-4318-bc3a-709184e73d0c",
   "metadata": {},
   "outputs": [
    {
     "data": {
      "text/plain": [
       "(torch.Size([628, 228, 3, 3]), torch.Size([628, 228, 2, 2]))"
      ]
     },
     "execution_count": 4,
     "metadata": {},
     "output_type": "execute_result"
    }
   ],
   "source": [
    "cm3x3tr = torch.tensor((cmtr))\n",
    "cm3x3ts = torch.tensor((cmts))\n",
    "cm2x2tr = torch.tensor((cmtr[...,1:3, 1:3]))\n",
    "cm2x2ts = torch.tensor((cmts[...,1:3, 1:3]))\n",
    "cm3x3tr.shape, cm2x2tr.shape"
   ]
  },
  {
   "cell_type": "markdown",
   "id": "f2631afe-9c9a-4ae1-869c-ecdc2adf9eef",
   "metadata": {},
   "source": [
    "# split mask\n"
   ]
  },
  {
   "cell_type": "code",
   "execution_count": 5,
   "id": "48946493-1fc0-449c-a097-691c1eca6105",
   "metadata": {},
   "outputs": [],
   "source": [
    "h, w = cmtr.shape[:2]\n",
    "splitmask_random = data.cv_splitpixels_random(h, w, train_pct = .70, test_pct = .15, val_pct = .15)\n",
    "splitmask_bands  = data.cv_splitpixels_spatial(h, w, pixels_train = 70, pixels_test = 15, pixels_val = 15, angle = np.pi/4)\n",
    "TRAIN, TEST, VAL = 0,1,2"
   ]
  },
  {
   "cell_type": "markdown",
   "id": "8fba2299-2382-4945-a89c-0ecd5debe11d",
   "metadata": {},
   "source": [
    "# use data loader"
   ]
  },
  {
   "cell_type": "code",
   "execution_count": 6,
   "id": "3283faf1-cfcf-4bce-b075-82cb0bded3da",
   "metadata": {},
   "outputs": [
    {
     "name": "stderr",
     "output_type": "stream",
     "text": [
      "\u001b[32m2024-05-30 20:02:29.898\u001b[0m | \u001b[1mINFO    \u001b[0m | \u001b[36mlib.datamodules.patches\u001b[0m:\u001b[36m__init__\u001b[0m:\u001b[36m52\u001b[0m - \u001b[1mPatchesDataset              patch_size=15  splitmask_dims=(628, 228)\n",
      "original split proportions: train=0.713  test=0.143  val=0.143\n",
      "patch split proportions:    train=0.714  test=0.143  val=0.143\n",
      "        \u001b[0m\n"
     ]
    }
   ],
   "source": [
    "dp = PatchesDataModule(\n",
    "        input_train_image  = cm2x2tr,\n",
    "        output_train_image = cm3x3tr,\n",
    "        input_test_image   = cm2x2ts,\n",
    "        output_test_image  = cm3x3ts,\n",
    "        input_val_image    = cm2x2ts,\n",
    "        output_val_image   = cm3x3ts,\n",
    "        patch_size  = 15,\n",
    "        batch_size  = 32,\n",
    "        splitmask   = splitmask_bands,\n",
    "        shuffle_train = True,\n",
    "        shuffle_test  = True,\n",
    "        shuffle_val   = True\n",
    ")"
   ]
  },
  {
   "cell_type": "code",
   "execution_count": 7,
   "id": "50040d3c-1e67-4ced-a261-7f72bbd1e2d2",
   "metadata": {},
   "outputs": [
    {
     "data": {
      "image/png": "[encoded data removed]",
      "text/plain": [
       "<Figure size 640x480 with 2 Axes>"
      ]
     },
     "metadata": {},
     "output_type": "display_data"
    }
   ],
   "source": [
    "dp.train_dataset.plot_split()"
   ]
  },
  {
   "cell_type": "code",
   "execution_count": 8,
   "id": "b626f0ad-3add-41f4-8fe6-58dbf04d3104",
   "metadata": {},
   "outputs": [],
   "source": [
    "dts = dp.test_dataloader()"
   ]
  },
  {
   "cell_type": "code",
   "execution_count": 9,
   "id": "25bef003-ce3d-4fa8-a449-ff111c1e8cec",
   "metadata": {},
   "outputs": [],
   "source": [
    "# normally one would iterate over the full dataset\n",
    "# here, we stop at the first batch to inspect it\n",
    "for item in dts:\n",
    "    break"
   ]
  },
  {
   "cell_type": "code",
   "execution_count": 10,
   "id": "0ac3ffbb-383f-4a3b-9291-2410f8269847",
   "metadata": {},
   "outputs": [
    {
     "data": {
      "text/plain": [
       "dict_keys(['input_patch', 'output_patch', 'patch_coords'])"
      ]
     },
     "execution_count": 10,
     "metadata": {},
     "output_type": "execute_result"
    }
   ],
   "source": [
    "# observe that a batch is a dictionary of patches and their coordinates in the original image\n",
    "item.keys()"
   ]
  },
  {
   "cell_type": "code",
   "execution_count": 11,
   "id": "2a60159a-6c64-47ea-9a0c-c4387c47dba1",
   "metadata": {},
   "outputs": [
    {
     "data": {
      "text/plain": [
       "(torch.Size([32, 15, 15, 2, 2]),\n",
       " torch.Size([32, 15, 15, 3, 3]),\n",
       " torch.Size([32, 2]))"
      ]
     },
     "execution_count": 11,
     "metadata": {},
     "output_type": "execute_result"
    }
   ],
   "source": [
    "# batches of shape: [batch_size, patch_size, patch_size, ...]\n",
    "item['input_patch'].shape, item['output_patch'].shape, item['patch_coords'].shape"
   ]
  },
  {
   "cell_type": "code",
   "execution_count": 12,
   "id": "9505a02c-bef2-42a1-8872-6f512899d923",
   "metadata": {},
   "outputs": [
    {
     "name": "stdout",
     "output_type": "stream",
     "text": [
      "Input shape:  torch.Size([32, 15, 15, 5])\n",
      "Output shape: torch.Size([32, 15, 15, 9])\n"
     ]
    }
   ],
   "source": [
    "# Indices upper triangular matrix for 2x2 and 3x3 matrices\n",
    "c2tri_x1, c2tri_x2 = torch.triu_indices(2, 2)\n",
    "c3tri_x1, c3tri_x2 = torch.triu_indices(3, 3)\n",
    "\n",
    "transforms_in = transforms.Compose([\n",
    "    dataset.Matrix_TraceNormRhos_parametrization(),\n",
    "    #dataset.Matrix_Cholesky_parametrization(),\n",
    "    #dataset.GetMatrixElements_RealAndImag([0,0,1], [0,1,1]),\n",
    "    #transforms.Normalize((0.5, 0.5, 0.5), (0.5, 0.5, 0.5)),\n",
    "    ])\n",
    "\n",
    "transforms_out = transforms.Compose([\n",
    "    #dataset.Matrix_TraceNormRhos_parametrization(),\n",
    "    dataset.Matrix_Cholesky_parametrization(),\n",
    "    #dataset.GetMatrixElements_RealAndImag([0,0,0,1,1,2], [0,1,2,1,2,2]),\n",
    "    #transforms.Normalize((0.5, 0.5, 0.5), (0.5, 0.5, 0.5)),\n",
    "    ])\n",
    "\n",
    "#recover_C_matrix = dataset.RecoverMatrix_From_TraceNormRhos_parametrization(3)\n",
    "recover_C_matrix = dataset.RecoverMatrix_From_Cholesky_parametrization(3)\n",
    "\n",
    "print(f\"Input shape:  {transforms_in(item['input_patch']).shape}\")\n",
    "print(f\"Output shape: {transforms_out(item['output_patch']).shape}\")"
   ]
  },
  {
   "cell_type": "code",
   "execution_count": 13,
   "id": "b52f37b4-cb04-4b1a-b9e1-17c53bf8f0ec",
   "metadata": {},
   "outputs": [
    {
     "name": "stdout",
     "output_type": "stream",
     "text": [
      "Input type:  torch.complex64\n",
      "Output type: torch.complex64\n"
     ]
    }
   ],
   "source": [
    "print(f\"Input type:  {item['input_patch'].dtype}\")\n",
    "print(f\"Output type: {item['output_patch'].dtype}\")"
   ]
  },
  {
   "cell_type": "code",
   "execution_count": 14,
   "id": "a142e7df-ea40-4b72-9c06-7de973e96bb5",
   "metadata": {},
   "outputs": [
    {
     "name": "stdout",
     "output_type": "stream",
     "text": [
      "torch.Size([32, 15, 15, 3, 3])\n"
     ]
    },
    {
     "data": {
      "text/plain": [
       "True"
      ]
     },
     "execution_count": 14,
     "metadata": {},
     "output_type": "execute_result"
    }
   ],
   "source": [
    "# Test that we can recover covariance matrix from the individual elements\n",
    "print(recover_C_matrix( transforms_out(item['output_patch'] )).shape)\n",
    "torch.allclose(item['output_patch'], recover_C_matrix(transforms_out(item['output_patch'])), rtol=5e-5)"
   ]
  },
  {
   "cell_type": "markdown",
   "id": "6591c489-cf63-45af-b1cb-6960520dcce1",
   "metadata": {},
   "source": [
    "# Train MLP Conv2d- Matrix Norm parametrization with the Revised Wishart distance as a loss function\n",
    "\n",
    "**input**: The TraceNormRhos parametrization contains the log of the trace $\\log tr(\\mathbf{C}_2)$, the normalized diagonal powers $d_1, d_2 = diag(\\mathbf{C}_2) / tr(\\mathbf{C}_2)$, and the correlation coeficients from the 2 by 2 subcovariance matrix corresponding to HV and VV polarizations $\\mathbf{L} = \\log \\mathbf{C}_{22 - 33}$ (5 real values: $\\log tr, d_1, d_2, \\Re(\\rho_{12}), \\Im(\\rho_{12})$):\n",
    "\n",
    "$\\begin{equation}\n",
    "  \\mathbf{C}_N = \\begin{bmatrix}\n",
    "    \\frac{1}{\\sqrt{C_{11}}} & 0\\\\\n",
    "    0 & \\frac{1}{\\sqrt{C_{22}}}\n",
    "    \\end{bmatrix}\n",
    "    \\mathbf{C}_2\n",
    "    \\begin{bmatrix}\n",
    "    \\frac{1}{\\sqrt{C_{11}}} & 0\\\\\n",
    "    0 & \\frac{1}{\\sqrt{C_{22}}}\n",
    "    \\end{bmatrix} = \n",
    "    \\begin{bmatrix}\n",
    "    1 & \\rho_{12}\\\\\n",
    "    \\rho_{12}^* & 1\n",
    "    \\end{bmatrix}\n",
    "\\end{equation}$\n",
    "\n",
    "**output**: The Cholesky factorization of the 3 by 3 covariance matrix $\\mathbf{L}$, where $\\mathbf{L}$ is a lower triangular matrix such that $\\mathbf{C} = \\mathbf{L}\\mathbf{L}^H$ (9 real values: $L_{11}, L_{22}, L_{33}, \\Re(L_{21}), \\Re(L_{31}), \\Re(L_{23}), \\Im(L_{21}), \\Im(L_{31}), \\Im(L_{23})$)\n",
    "\n",
    "**loss**: The Revised Wishart dissimilarity function (non Symetric) will be used as a loss function:\n",
    "\n",
    "$d_{RW}(\\mathbf{X}, \\mathbf{Y}) = \\log \\frac{|\\mathbf{Y}|}{|\\mathbf{X}|} + tr(\\mathbf{Y}^{-1} \\mathbf{X}) - p$\n",
    "\n",
    "**Note**: Since the matrix logarithm depends on the whole covariance matrix, it is not the same to perform the logarithm of the 3x3 covariance matrix and take the 2x2 submatrix than doing the logarithm of the 2x2 submatrix"
   ]
  },
  {
   "cell_type": "code",
   "execution_count": 15,
   "id": "05f2063a-cf01-42b1-9884-c8dc7f3f6816",
   "metadata": {},
   "outputs": [
    {
     "name": "stdout",
     "output_type": "stream",
     "text": [
      "Using device: cpu\n"
     ]
    }
   ],
   "source": [
    "# Decide which device we want to run on\n",
    "device = 'cuda' if torch.cuda.is_available() else 'cpu'\n",
    "#device = 'cpu'\n",
    "print(f\"Using device: {device}\")"
   ]
  },
  {
   "cell_type": "code",
   "execution_count": 206,
   "id": "fd08d62c-55e7-49f3-b4e7-8bac6d96531d",
   "metadata": {},
   "outputs": [
    {
     "name": "stdout",
     "output_type": "stream",
     "text": [
      "Sequential(\n",
      "  (0): Conv2d(5, 1024, kernel_size=(5, 5), stride=(1, 1), padding=same, bias=False)\n",
      "  (1): BatchNorm2d(1024, eps=1e-05, momentum=0.1, affine=True, track_running_stats=True)\n",
      "  (2): ReLU()\n",
      "  (3): Conv2d(1024, 512, kernel_size=(5, 5), stride=(1, 1), padding=same, bias=False)\n",
      "  (4): BatchNorm2d(512, eps=1e-05, momentum=0.1, affine=True, track_running_stats=True)\n",
      "  (5): ReLU()\n",
      "  (6): MLP_Conv2d(\n",
      "    (model): Sequential(\n",
      "      (0): Conv2d(512, 512, kernel_size=(1, 1), stride=(1, 1), bias=False)\n",
      "      (1): BatchNorm2d(512, eps=1e-05, momentum=0.1, affine=True, track_running_stats=True)\n",
      "      (2): ReLU()\n",
      "      (3): Conv2d(512, 512, kernel_size=(1, 1), stride=(1, 1), bias=False)\n",
      "      (4): BatchNorm2d(512, eps=1e-05, momentum=0.1, affine=True, track_running_stats=True)\n",
      "      (5): ReLU()\n",
      "      (6): Conv2d(512, 512, kernel_size=(1, 1), stride=(1, 1), bias=False)\n",
      "      (7): BatchNorm2d(512, eps=1e-05, momentum=0.1, affine=True, track_running_stats=True)\n",
      "      (8): ReLU()\n",
      "      (9): Conv2d(512, 9, kernel_size=(1, 1), stride=(1, 1))\n",
      "    )\n",
      "  )\n",
      ")\n"
     ]
    }
   ],
   "source": [
    "# Define the model\n",
    "N_hiden_layers = 3\n",
    "Hiden_size = 1024\n",
    "\n",
    "## Model with Normalization\n",
    "#model = nn.Sequential(\n",
    "#    mlp_cnn.MLP_Conv2d(5,10, [Hiden_size] * N_hiden_layers, normalization=nn.BatchNorm2d),\n",
    "#    dataset.TraceNormRhosActivarion(3))\n",
    "\n",
    "# Model with Normalization\n",
    "#model = nn.Sequential(\n",
    "#    mlp_cnn.MLP_Conv2d(5,9, [Hiden_size] * N_hiden_layers, normalization=nn.BatchNorm2d),\n",
    "#    dataset.NormRhosActivarion(3))\n",
    "\n",
    "#model = mlp_cnn.MLP_Conv2d(5,9, [Hiden_size] * N_hiden_layers, normalization=nn.BatchNorm2d)\n",
    "\n",
    "model = nn.Sequential(\n",
    "    nn.Conv2d(5, Hiden_size, kernel_size=(5,5), padding=\"same\", bias=False,\n",
    "              #padding_mode='reflect'\n",
    "             ),\n",
    "    nn.BatchNorm2d(Hiden_size),\n",
    "    nn.ReLU(),\n",
    "\n",
    "    nn.Conv2d(Hiden_size, Hiden_size//2, kernel_size=(5,5), padding=\"same\", bias=False,\n",
    "              #padding_mode='reflect'\n",
    "             ),\n",
    "    nn.BatchNorm2d(Hiden_size//2),\n",
    "    nn.ReLU(),\n",
    "    \n",
    "    mlp_cnn.MLP_Conv2d(Hiden_size//2, 9, [Hiden_size//2] * N_hiden_layers, normalization=nn.BatchNorm2d,\n",
    "                       #activation=nn.GELU,\n",
    "                       #dropout=0.1,\n",
    "                      ),\n",
    "    )\n",
    "\n",
    "model = model.to(device)\n",
    "print(model)"
   ]
  },
  {
   "cell_type": "code",
   "execution_count": null,
   "id": "9b604360-bb25-4eaf-a906-bb886074d3c7",
   "metadata": {},
   "outputs": [],
   "source": []
  },
  {
   "cell_type": "code",
   "execution_count": 202,
   "id": "e666d29b-cacf-46df-88b3-27eab53c2c41",
   "metadata": {},
   "outputs": [],
   "source": [
    "# Define loss function\n",
    "#loss_fn = dataset.FrobeniusNormMeanSquaredLoss()\n",
    "#loss_fn = dataset.FrobeniusNormRelativeMeanSquaredLoss()\n",
    "#loss_fn = dataset.SymmetricRevisedWishartLoss(eps=1e-5)\n",
    "#loss_fn = dataset.SymmetricRevisedWishartLoss_RelPreload(rel_eps=1e-4)\n",
    "loss_fn = dataset.RevisedWishartLoss()\n",
    "#loss_fn = dataset.WishartLoss()\n",
    "\n",
    "# Define optimizer\n",
    "optimizer = torch.optim.Adam(model.parameters(), lr=1e-3)"
   ]
  },
  {
   "cell_type": "code",
   "execution_count": 203,
   "id": "95a699de-0454-4696-8b2b-34082608a864",
   "metadata": {},
   "outputs": [],
   "source": [
    "def train_one_epoch(training_loader):\n",
    "    running_loss = 0.\n",
    "    model.train(True)\n",
    "    for i, data in enumerate(training_loader):\n",
    "        # Load and prepare data\n",
    "        inputs, desired_output = data['input_patch'], data['output_patch']\n",
    "        \n",
    "        # Apply transforms & prepare data\n",
    "        #inputs = torch.moveaxis(transforms_in(inputs), -1, -3)\n",
    "        inputs = torch.moveaxis(torch.as_tensor(transforms_in(inputs)), -1, -3)\n",
    "        #desired_output = torch.moveaxis(transforms_out(desired_output), -1, -3)\n",
    "\n",
    "        # Move data to device\n",
    "        inputs = inputs.to(device)\n",
    "        #desired_output = desired_output.to(device)\n",
    "        \n",
    "        # Zero your gradients for every batch!\n",
    "        optimizer.zero_grad()\n",
    "\n",
    "        # Make predictions for this batch\n",
    "        outputs = model(inputs)\n",
    "\n",
    "        # Convert outputs to C matrices again\n",
    "        Cout = recover_C_matrix(torch.moveaxis(outputs, -3, -1))\n",
    "        #Cn = recover_C_matrix(torch.moveaxis(outputs, -3, -1))\n",
    "        #trin = torch.exp(inputs[..., 0, :, :])\n",
    "        #tr = trin / (Cn[..., 1, 1] + Cn[..., 2, 2])\n",
    "        #Cout = tr[..., None, None] * Cn\n",
    "\n",
    "        #Cdesired = recover_C_matrix(torch.moveaxis(desired_output, -3, -1))\n",
    "        Cdesired = data['output_patch'].to(device)\n",
    "\n",
    "        # Compute the loss and its gradients\n",
    "        #loss = loss_fn(Cout, Cdesired)\n",
    "        #loss = loss_fn(Cdesired, Cout)\n",
    "        #loss = torch.log1p(loss_fn(Cout, Cdesired))\n",
    "        #loss = torch.log1p(loss_fn(Cdesired, Cout))\n",
    "        #loss = loss_fn(Cout, Cdesired).mean()\n",
    "        loss = torch.log1p(loss_fn(Cout, Cdesired)).mean()\n",
    "        loss.backward()\n",
    "\n",
    "        # Adjust learning weights\n",
    "        optimizer.step()\n",
    "\n",
    "        # Gather data and report\n",
    "        #running_loss += loss.item()\n",
    "        running_loss += torch.expm1(loss.detach()).item()\n",
    "    \n",
    "    return running_loss / len(training_loader)\n",
    "\n",
    "def evaluate_test(test_loader):\n",
    "    running_loss = 0.\n",
    "    model.eval()\n",
    "    with torch.no_grad():\n",
    "        for i, data in enumerate(test_loader):\n",
    "            # Every data instance is an input + label pair\n",
    "            inputs, desired_output = data['input_patch'], data['output_patch']\n",
    "            \n",
    "            # Apply transforms & prepare data\n",
    "            #inputs = torch.moveaxis(transforms_in(inputs), -1, -3)\n",
    "            inputs = torch.moveaxis(torch.as_tensor(transforms_in(inputs)), -1, -3)\n",
    "            #desired_output = torch.moveaxis(transforms_out(desired_output), -1, -3)\n",
    "\n",
    "            # Move data to device\n",
    "            inputs = inputs.to(device)\n",
    "            #desired_output = desired_output.to(device)\n",
    "            \n",
    "            # Make predictions for this batch\n",
    "            outputs = model(inputs)\n",
    "    \n",
    "            # Convert outputs to C matrices again\n",
    "            Cout = recover_C_matrix(torch.moveaxis(outputs, -3, -1))\n",
    "            #Cn = recover_C_matrix(torch.moveaxis(outputs, -3, -1))\n",
    "            #trin = torch.exp(inputs[..., 0, :, :])\n",
    "            #tr = trin / (Cn[..., 1, 1] + Cn[..., 2, 2])\n",
    "            #Cout = tr[..., None, None] * Cn\n",
    "\n",
    "            #Cdesired = recover_C_matrix(torch.moveaxis(desired_output, -3, -1))\n",
    "            Cdesired = data['output_patch'].to(device)\n",
    "    \n",
    "            # Compute the loss\n",
    "            #loss = loss_fn(Cout, Cdesired)\n",
    "            #loss = loss_fn(Cdesired, Cout)\n",
    "            #loss = loss_fn(Cout, Cdesired).mean()\n",
    "            loss = torch.log1p(loss_fn(Cout, Cdesired)).mean()\n",
    "    \n",
    "            # Gather data and report\n",
    "            #running_loss += loss.item()\n",
    "            running_loss += torch.expm1(loss).item()\n",
    "    \n",
    "    return running_loss / len(test_loader)\n"
   ]
  },
  {
   "cell_type": "code",
   "execution_count": 204,
   "id": "5bc85af9-161f-403f-9cb9-2e9bd6e629df",
   "metadata": {},
   "outputs": [
    {
     "name": "stdout",
     "output_type": "stream",
     "text": [
      "Model file 'model_convs_MLP3_raul.pt' not found. Training the model...\n"
     ]
    },
    {
     "name": "stderr",
     "output_type": "stream",
     "text": [
      "100%|█████████████████████████████████████████████████████████████████████| 300/300 [02:06<00:00,  2.38it/s]\n"
     ]
    }
   ],
   "source": [
    "N_epochs = 300\n",
    "\n",
    "dtr = dp.train_dataloader()\n",
    "dts = dp.test_dataloader()\n",
    "\n",
    "losses_train = []\n",
    "losses_test = []\n",
    "\n",
    "if True: #not os.path.exists(model_fname):\n",
    "    print(f\"Model file '{model_fname}' not found. Training the model...\")\n",
    "    for i in tqdm(range(N_epochs)):\n",
    "        # Train\n",
    "        avg_loss = train_one_epoch(dtr)\n",
    "        losses_train.append(avg_loss)\n",
    "        # Test\n",
    "        avg_loss = evaluate_test(dts)\n",
    "        losses_test.append(avg_loss)\n",
    "else:\n",
    "    print(f\"Model file '{model_fname}' found. Loading the pretrained model from there!\")\n",
    "    model.load_state_dict(torch.load(model_fname, map_location=torch.device('cpu') ))\n",
    "    with np.load(model_losses_fname) as f:\n",
    "        losses_train = f['losses_train']\n",
    "        losses_test = f['losses_test']"
   ]
  },
  {
   "cell_type": "code",
   "execution_count": 173,
   "id": "b5c76e27-bc64-4fef-8793-ae1f06ed991d",
   "metadata": {},
   "outputs": [
    {
     "data": {
      "image/png": "[encoded data removed]",
      "text/plain": [
       "<Figure size 640x480 with 1 Axes>"
      ]
     },
     "metadata": {},
     "output_type": "display_data"
    }
   ],
   "source": [
    "plt.figure()\n",
    "plt.plot(np.arange(1, len(losses_train)+1), 10*np.log10(losses_train), label=\"Train\")\n",
    "plt.plot(np.arange(1, len(losses_train)+1), 10*np.log10(losses_test), label=\"Test\")\n",
    "plt.xlabel(\"epoch\")\n",
    "plt.ylabel(\"loss [dB]\")\n",
    "\n",
    "mean_loss_train =  np.mean(10*np.log10(losses_train[-200:]))\n",
    "mean_loss_test  =  np.mean(10*np.log10(losses_test[-200:]))\n",
    "plt.axhline( mean_loss_train, color='steelblue', ls='--', label=f\"train mean loss {mean_loss_train:.3f}\")\n",
    "plt.axhline( mean_loss_test, color='orange', ls='--', label=f\"test mean loss {mean_loss_test:.3f}\")\n",
    "plt.legend()\n",
    "plt.grid()"
   ]
  },
  {
   "cell_type": "code",
   "execution_count": 197,
   "id": "cfcb0ec9-9be5-4d63-8a87-99c5062ac98d",
   "metadata": {},
   "outputs": [],
   "source": [
    "torch.save(model, model_fname)"
   ]
  },
  {
   "cell_type": "code",
   "execution_count": null,
   "id": "225a0dfd-7dbc-48a9-9f8e-96207f448794",
   "metadata": {},
   "outputs": [],
   "source": []
  }
 ],
 "metadata": {
  "kernelspec": {
   "display_name": "earth-text-env",
   "language": "python",
   "name": "earth-text-env"
  },
  "language_info": {
   "codemirror_mode": {
    "name": "ipython",
    "version": 3
   },
   "file_extension": ".py",
   "mimetype": "text/x-python",
   "name": "python",
   "nbconvert_exporter": "python",
   "pygments_lexer": "ipython3",
   "version": "3.12.2"
  }
 },
 "nbformat": 4,
 "nbformat_minor": 5
}
