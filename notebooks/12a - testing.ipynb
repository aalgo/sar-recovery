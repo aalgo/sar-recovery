{
 "cells": [
  {
   "cell_type": "code",
   "execution_count": 1,
   "id": "856c05f3-bf5d-4bea-883c-6e6e002fd7b8",
   "metadata": {},
   "outputs": [
    {
     "data": {
      "text/plain": [
       "<module 'lib.datamodules.components.scatterdataset' from '/home/ubuntu/sar-recovery/notebooks/../lib/datamodules/components/scatterdataset.py'>"
      ]
     },
     "execution_count": 1,
     "metadata": {},
     "output_type": "execute_result"
    }
   ],
   "source": [
    "import numpy as np\n",
    "import matplotlib.pyplot as plt\n",
    "from rlxutils import subplots\n",
    "import pandas as pd\n",
    "import sys\n",
    "sys.path.append(\"..\")\n",
    "import torch\n",
    "from torch import nn\n",
    "\n",
    "from lib import data\n",
    "from lib import sar\n",
    "from lib import io\n",
    "\n",
    "from torch import nn  \n",
    "from loguru import logger\n",
    "from lib.datamodules.components import scatterdataset\n",
    "from lib.datamodules import scatterdatamodule\n",
    "from lib.models import scattermodel\n",
    "from omegaconf import OmegaConf\n",
    "import hydra\n",
    "import pprint\n",
    "from importlib import reload\n",
    "reload(scatterdataset)"
   ]
  },
  {
   "cell_type": "code",
   "execution_count": 2,
   "id": "2f947ab2-b5b9-425b-8529-e482578accd4",
   "metadata": {},
   "outputs": [
    {
     "name": "stdout",
     "output_type": "stream",
     "text": [
      "{'dataloader': {'_target_': 'lib.datamodules.scatterdatamodule.ScatterCoherencePatchesDataModule',\n",
      "                'base_path': '/home/rlx/data/sar-recovery',\n",
      "                'date_train': 20100520,\n",
      "                'date_test': 20120720,\n",
      "                'date_val': 20120720,\n",
      "                'scatter_elems': ['Shh', 'Shv'],\n",
      "                'coherence_elems': ['Shh2'],\n",
      "                'patch_size': 60,\n",
      "                'avg_window_size': 5,\n",
      "                'splitmask_fn_src': 'lambda h, w: '\n",
      "                                    'data.cv_splitpixels_spatial(h, w, '\n",
      "                                    'pixels_train = 70, pixels_test = 15, '\n",
      "                                    'pixels_val = 15, angle = np.pi/4)'},\n",
      " 'model': {'_target_': 'lib.models.scattermodel.Scatter2Coherence',\n",
      "           'in_channels': 2}}\n"
     ]
    }
   ],
   "source": [
    "conf = OmegaConf.load(\"../configs/scatter2coherence.yaml\")\n",
    "pprint.pp(OmegaConf.to_container(conf))"
   ]
  },
  {
   "cell_type": "code",
   "execution_count": 3,
   "id": "eb52698b-980a-4f72-844f-630ce65fd4e6",
   "metadata": {},
   "outputs": [
    {
     "name": "stderr",
     "output_type": "stream",
     "text": [
      "\u001b[32m2024-04-19 19:21:22.376\u001b[0m | \u001b[1mINFO    \u001b[0m | \u001b[36mlib.datamodules.components.scatterdataset\u001b[0m:\u001b[36m__init__\u001b[0m:\u001b[36m44\u001b[0m - \u001b[1mloading scatter matrix\u001b[0m\n",
      "\u001b[32m2024-04-19 19:21:22.526\u001b[0m | \u001b[1mINFO    \u001b[0m | \u001b[36mlib.datamodules.components.scatterdataset\u001b[0m:\u001b[36m__init__\u001b[0m:\u001b[36m47\u001b[0m - \u001b[1mcomputing coherence matrix\u001b[0m\n",
      "\u001b[32m2024-04-19 19:21:26.061\u001b[0m | \u001b[33m\u001b[1mWARNING \u001b[0m | \u001b[36mlib.datamodules.components.patches\u001b[0m:\u001b[36m__init__\u001b[0m:\u001b[36m75\u001b[0m - \u001b[33m\u001b[1msplit proportions changed too much during patch split\n",
      "ScatterCoherencePatchesDataset  patch_size=60  splitmask_dims=(4402, 1602)\n",
      "original split proportions: train=0.700  test=0.150  val=0.150\n",
      "patch split proportions:    train=1.000  test=0.000  val=0.000\n",
      "        \u001b[0m\n",
      "\u001b[32m2024-04-19 19:21:26.062\u001b[0m | \u001b[1mINFO    \u001b[0m | \u001b[36mlib.datamodules.components.scatterdataset\u001b[0m:\u001b[36m__init__\u001b[0m:\u001b[36m58\u001b[0m - \u001b[1mscatter   matrix shape is (4402, 1602, 2, 2), retrieving elems [('Shh', [0, 0]), ('Shv', [0, 1])]\u001b[0m\n",
      "\u001b[32m2024-04-19 19:21:26.062\u001b[0m | \u001b[1mINFO    \u001b[0m | \u001b[36mlib.datamodules.components.scatterdataset\u001b[0m:\u001b[36m__init__\u001b[0m:\u001b[36m59\u001b[0m - \u001b[1mcoherence matrix shape is (4402, 1602, 3, 3), retrieving elems [('Shh2', (0, 0))]\u001b[0m\n",
      "\u001b[32m2024-04-19 19:21:26.065\u001b[0m | \u001b[1mINFO    \u001b[0m | \u001b[36mlib.datamodules.components.scatterdataset\u001b[0m:\u001b[36m__init__\u001b[0m:\u001b[36m44\u001b[0m - \u001b[1mloading scatter matrix\u001b[0m\n",
      "\u001b[32m2024-04-19 19:21:26.218\u001b[0m | \u001b[1mINFO    \u001b[0m | \u001b[36mlib.datamodules.components.scatterdataset\u001b[0m:\u001b[36m__init__\u001b[0m:\u001b[36m47\u001b[0m - \u001b[1mcomputing coherence matrix\u001b[0m\n",
      "\u001b[32m2024-04-19 19:21:29.786\u001b[0m | \u001b[33m\u001b[1mWARNING \u001b[0m | \u001b[36mlib.datamodules.components.patches\u001b[0m:\u001b[36m__init__\u001b[0m:\u001b[36m75\u001b[0m - \u001b[33m\u001b[1msplit proportions changed too much during patch split\n",
      "ScatterCoherencePatchesDataset  patch_size=60  splitmask_dims=(4402, 1602)\n",
      "original split proportions: train=0.700  test=0.150  val=0.150\n",
      "patch split proportions:    train=1.000  test=0.000  val=0.000\n",
      "        \u001b[0m\n",
      "\u001b[32m2024-04-19 19:21:29.787\u001b[0m | \u001b[1mINFO    \u001b[0m | \u001b[36mlib.datamodules.components.scatterdataset\u001b[0m:\u001b[36m__init__\u001b[0m:\u001b[36m58\u001b[0m - \u001b[1mscatter   matrix shape is (4402, 1602, 2, 2), retrieving elems [('Shh', [0, 0]), ('Shv', [0, 1])]\u001b[0m\n",
      "\u001b[32m2024-04-19 19:21:29.787\u001b[0m | \u001b[1mINFO    \u001b[0m | \u001b[36mlib.datamodules.components.scatterdataset\u001b[0m:\u001b[36m__init__\u001b[0m:\u001b[36m59\u001b[0m - \u001b[1mcoherence matrix shape is (4402, 1602, 3, 3), retrieving elems [('Shh2', (0, 0))]\u001b[0m\n",
      "\u001b[32m2024-04-19 19:21:29.789\u001b[0m | \u001b[1mINFO    \u001b[0m | \u001b[36mlib.datamodules.components.scatterdataset\u001b[0m:\u001b[36m__init__\u001b[0m:\u001b[36m44\u001b[0m - \u001b[1mloading scatter matrix\u001b[0m\n",
      "\u001b[32m2024-04-19 19:21:29.940\u001b[0m | \u001b[1mINFO    \u001b[0m | \u001b[36mlib.datamodules.components.scatterdataset\u001b[0m:\u001b[36m__init__\u001b[0m:\u001b[36m47\u001b[0m - \u001b[1mcomputing coherence matrix\u001b[0m\n",
      "\u001b[32m2024-04-19 19:21:33.481\u001b[0m | \u001b[33m\u001b[1mWARNING \u001b[0m | \u001b[36mlib.datamodules.components.patches\u001b[0m:\u001b[36m__init__\u001b[0m:\u001b[36m75\u001b[0m - \u001b[33m\u001b[1msplit proportions changed too much during patch split\n",
      "ScatterCoherencePatchesDataset  patch_size=60  splitmask_dims=(4402, 1602)\n",
      "original split proportions: train=0.700  test=0.150  val=0.150\n",
      "patch split proportions:    train=1.000  test=0.000  val=0.000\n",
      "        \u001b[0m\n",
      "\u001b[32m2024-04-19 19:21:33.482\u001b[0m | \u001b[1mINFO    \u001b[0m | \u001b[36mlib.datamodules.components.scatterdataset\u001b[0m:\u001b[36m__init__\u001b[0m:\u001b[36m58\u001b[0m - \u001b[1mscatter   matrix shape is (4402, 1602, 2, 2), retrieving elems [('Shh', [0, 0]), ('Shv', [0, 1])]\u001b[0m\n",
      "\u001b[32m2024-04-19 19:21:33.482\u001b[0m | \u001b[1mINFO    \u001b[0m | \u001b[36mlib.datamodules.components.scatterdataset\u001b[0m:\u001b[36m__init__\u001b[0m:\u001b[36m59\u001b[0m - \u001b[1mcoherence matrix shape is (4402, 1602, 3, 3), retrieving elems [('Shh2', (0, 0))]\u001b[0m\n",
      "\u001b[32m2024-04-19 19:21:33.483\u001b[0m | \u001b[1mINFO    \u001b[0m | \u001b[36mlib.datamodules.scatterdatamodule\u001b[0m:\u001b[36m__init__\u001b[0m:\u001b[36m63\u001b[0m - \u001b[1mScatterCoherencePatchesDataset  patch_size=60  splitmask_dims=(4402, 1602)\n",
      "original split proportions: train=0.700  test=0.150  val=0.150\n",
      "patch split proportions:    train=1.000  test=0.000  val=0.000\n",
      "        \u001b[0m\n"
     ]
    }
   ],
   "source": [
    "dl = hydra.utils.instantiate(conf.dataloader)"
   ]
  },
  {
   "cell_type": "code",
   "execution_count": 5,
   "id": "44762e67-2237-4a5b-89d6-b7e6edd8e347",
   "metadata": {},
   "outputs": [],
   "source": [
    "b = next(iter(dl.train_dataloader()))"
   ]
  },
  {
   "cell_type": "code",
   "execution_count": 6,
   "id": "00eefe9c-c992-4f87-a0dd-29a3b38300c6",
   "metadata": {},
   "outputs": [
    {
     "data": {
      "text/plain": [
       "dict_keys(['scatter_patch', 'coherence_patch', 'patch_coords', 'avg_coherence_patch'])"
      ]
     },
     "execution_count": 6,
     "metadata": {},
     "output_type": "execute_result"
    }
   ],
   "source": [
    "b.keys()"
   ]
  },
  {
   "cell_type": "code",
   "execution_count": 7,
   "id": "f1bfc01b-30a1-473f-8380-8dbb22315380",
   "metadata": {},
   "outputs": [
    {
     "data": {
      "text/plain": [
       "(torch.Size([16, 2, 60, 60]), torch.Size([16, 1, 12, 12]))"
      ]
     },
     "execution_count": 7,
     "metadata": {},
     "output_type": "execute_result"
    }
   ],
   "source": [
    "b['scatter_patch'].shape, b['avg_coherence_patch'].shape"
   ]
  },
  {
   "cell_type": "code",
   "execution_count": 67,
   "id": "111d393a-c50f-49b0-81f8-c3a08bd72e2b",
   "metadata": {},
   "outputs": [],
   "source": [
    "ComplexActivation = scattermodel.ComplexActivation\n",
    "smap = scattermodel.smap\n",
    "from complexPyTorch.complexFunctions import complex_relu\n",
    "from complexPyTorch.complexLayers import ComplexBatchNorm2d\n",
    "\n",
    "class Scatter2Coherence(nn.Module):\n",
    "    \"\"\"\n",
    "    assumes an input of shape [batch_size, h, w, 2, 2]\n",
    "    \"\"\"\n",
    "    def __init__(self, in_channels):\n",
    "        super().__init__()\n",
    "        \n",
    "        self.in_channels = in_channels\n",
    "\n",
    "        self.layers = nn.Sequential(\n",
    "                 nn.Conv2d(in_channels=self.in_channels, out_channels=20, \n",
    "                           kernel_size=5, stride=5, padding=0, \n",
    "                           dtype=torch.cfloat\n",
    "                           ),\n",
    "                 ComplexActivation(complex_relu),   \n",
    "                 ComplexBatchNorm2d(20),\n",
    "        \n",
    "                 nn.Conv2d(in_channels=20, out_channels=20, \n",
    "                           kernel_size=3, stride=1, padding='same', \n",
    "                           dtype=torch.cfloat,\n",
    "                           ),\n",
    "                 ComplexActivation(complex_relu), \n",
    "                 ComplexBatchNorm2d(20),\n",
    "\n",
    "                 nn.Conv2d(in_channels=20, out_channels=10, \n",
    "                           kernel_size=5, stride=1, padding='same', \n",
    "                           dtype=torch.cfloat,\n",
    "                           ),\n",
    "                 ComplexActivation(complex_relu), \n",
    "                 ComplexBatchNorm2d(10),\n",
    "\n",
    "\n",
    "                 nn.Conv2d(in_channels=10, out_channels=1, \n",
    "                           kernel_size=7, stride=1, padding='same', \n",
    "                           dtype=torch.cfloat,\n",
    "                           ),\n",
    "\n",
    "        )\n",
    "        \n",
    "    def get_output_shape(self, input_shape):\n",
    "        x = torch.rand((1,self.in_channels, *input_shape)).type(torch.cfloat)\n",
    "        return self(x).shape[-2:]\n",
    "    \n",
    "    def forward(self, x):\n",
    "        \n",
    "        x = self.layers(x)\n",
    "        \n",
    "        return x"
   ]
  },
  {
   "cell_type": "code",
   "execution_count": 68,
   "id": "96937a0b-a7e9-4dbc-a245-85eba15500bb",
   "metadata": {},
   "outputs": [],
   "source": [
    "m = Scatter2Coherence(in_channels=2)"
   ]
  },
  {
   "cell_type": "code",
   "execution_count": 70,
   "id": "75b91e18-bb7e-4bca-85a4-87e823216a69",
   "metadata": {},
   "outputs": [
    {
     "data": {
      "text/plain": [
       "(torch.Size([16, 2, 60, 60]), torch.Size([16, 1, 12, 12]))"
      ]
     },
     "execution_count": 70,
     "metadata": {},
     "output_type": "execute_result"
    }
   ],
   "source": [
    "x = b['scatter_patch']\n",
    "o = m(x)\n",
    "x.shape, o.shape\n"
   ]
  },
  {
   "cell_type": "code",
   "execution_count": 55,
   "id": "6a339cee-7b7a-4067-babd-9523d8f3a73f",
   "metadata": {},
   "outputs": [
    {
     "data": {
      "text/plain": [
       "(torch.Size([16, 2, 60, 60]), torch.Size([16, 1, 12, 12]))"
      ]
     },
     "execution_count": 55,
     "metadata": {},
     "output_type": "execute_result"
    }
   ],
   "source": [
    "(torch.Size([16, 2, 60, 60]), torch.Size([16, 1, 12, 12]))\n"
   ]
  },
  {
   "cell_type": "code",
   "execution_count": 71,
   "id": "7f6c7955-2055-43a3-92d9-3dee7482bd93",
   "metadata": {},
   "outputs": [
    {
     "data": {
      "text/plain": [
       "tensor([[[[-6.8209e-01-3.5772e-02j,  1.0259e-01+2.2092e+00j,\n",
       "           -2.2120e+00+8.2161e-01j,  ...,\n",
       "           -2.3616e-01+2.0221e+00j, -2.2577e-01+5.3397e-01j,\n",
       "           -8.8225e-01+1.7272e-01j],\n",
       "          [ 2.2600e+00-5.4800e-01j, -9.5448e-01+2.4369e+00j,\n",
       "           -2.6471e+00+9.1205e-01j,  ...,\n",
       "           -3.0981e-01-1.7500e-01j, -1.8977e-01+3.0341e+00j,\n",
       "           -1.2427e+00-5.4042e-01j],\n",
       "          [ 7.7692e-02-2.7153e+00j, -2.4675e+00+5.4201e+00j,\n",
       "            4.2657e-01+3.5719e+00j,  ...,\n",
       "           -2.2209e+00+9.7791e-01j, -1.5946e+00+9.8416e-01j,\n",
       "           -9.2323e-01+1.0586e+00j],\n",
       "          ...,\n",
       "          [ 9.3165e-01-3.9186e-01j, -1.2047e+00-7.7419e-01j,\n",
       "           -2.4030e+00+3.8348e-01j,  ...,\n",
       "           -4.7482e-01-1.3344e+00j, -1.2582e-01-6.0045e-01j,\n",
       "           -9.7294e-01-8.0606e-01j],\n",
       "          [-2.0956e-01-4.8668e-01j, -1.3964e+00-5.2854e-01j,\n",
       "           -3.8091e-01-2.0907e-01j,  ...,\n",
       "            1.3627e+00+5.2097e-01j, -1.4209e+00+6.5290e-01j,\n",
       "           -1.8405e-01-1.0357e+00j],\n",
       "          [ 2.6805e-01-1.3756e+00j,  3.1098e-02+3.4425e-01j,\n",
       "            1.5608e+00+2.9926e-01j,  ...,\n",
       "           -2.2109e-01-1.7514e-01j,  4.2038e-01-6.4913e-02j,\n",
       "            2.8239e-01+2.7826e-01j]]],\n",
       "\n",
       "\n",
       "        [[[ 1.2080e-01+8.0683e-02j,  2.4443e-01+2.4304e-01j,\n",
       "            8.7051e-03+2.0641e-01j,  ...,\n",
       "            1.2707e+00-5.1139e-01j, -1.4340e-01-8.9468e-01j,\n",
       "           -3.5894e-01-2.3105e-01j],\n",
       "          [ 4.7884e-01+5.3431e-01j, -2.7027e-01+1.0644e-01j,\n",
       "           -7.7270e-01+1.5138e-01j,  ...,\n",
       "            7.3722e-01-2.7717e-01j, -6.2953e-02-7.1749e-01j,\n",
       "            5.2775e-01-4.4113e-01j],\n",
       "          [ 1.8355e-02+8.4551e-01j,  6.9614e-02+8.4387e-03j,\n",
       "            1.4215e-01+9.5351e-01j,  ...,\n",
       "            3.0291e-01-6.0664e-01j, -2.2941e-01-6.7864e-01j,\n",
       "            3.4030e-01-9.4226e-02j],\n",
       "          ...,\n",
       "          [ 4.0586e-01-8.9700e-01j,  1.7137e-01+3.7235e-01j,\n",
       "            6.2682e-02-1.1143e+00j,  ...,\n",
       "           -6.5049e-01-4.7463e-02j, -4.4279e-01-9.3488e-02j,\n",
       "            1.0644e-01-4.5229e-01j],\n",
       "          [ 5.6154e-01-2.0192e-01j,  5.3362e-01-7.7142e-01j,\n",
       "            1.1607e-02-2.3497e-01j,  ...,\n",
       "            8.0611e-01-7.4301e-02j, -9.7870e-02+8.3877e-01j,\n",
       "           -4.6693e-01-1.7025e-01j],\n",
       "          [ 4.1549e-01+1.7927e-01j, -6.0739e-01-9.4033e-02j,\n",
       "            3.9828e-02+4.5574e-01j,  ...,\n",
       "           -2.4789e-01-2.2999e-01j, -5.6103e-01-9.1204e-02j,\n",
       "           -1.4087e-01-2.6375e-03j]]],\n",
       "\n",
       "\n",
       "        [[[ 5.1970e-03-1.0702e-01j,  1.2468e-01+3.6447e-01j,\n",
       "           -3.2002e-02-1.5340e-01j,  ...,\n",
       "            3.8584e-01-8.1518e-01j, -1.2627e-02-7.9090e-01j,\n",
       "            1.7613e-01-5.5464e-01j],\n",
       "          [ 7.6335e-02-1.9139e-01j, -3.2359e-01-4.2702e-01j,\n",
       "            2.7175e-01-4.3077e-01j,  ...,\n",
       "            1.1389e+00-5.1776e-01j,  2.4019e-01-2.1259e-01j,\n",
       "            7.4335e-01-6.4582e-01j],\n",
       "          [-6.1322e-02+1.6226e-01j, -1.0215e-01-1.8505e-01j,\n",
       "           -1.4503e-01-3.1251e-01j,  ...,\n",
       "            4.9199e-02-6.7281e-01j,  3.8388e-01-3.5688e-01j,\n",
       "            1.2416e-01-1.8753e-01j],\n",
       "          ...,\n",
       "          [-1.1040e-01-5.0036e-01j, -9.2361e-02-6.4256e-01j,\n",
       "           -5.1671e-01-7.3021e-01j,  ...,\n",
       "            9.0799e-02-7.2864e-01j, -3.3088e-01-8.6700e-01j,\n",
       "           -5.6038e-01-7.6977e-01j],\n",
       "          [-4.5966e-02-1.1442e-01j,  1.1632e-01-4.3554e-01j,\n",
       "           -1.3403e-01-2.6959e-02j,  ...,\n",
       "            5.1778e-03-2.2728e-01j,  5.1412e-01-2.8727e-01j,\n",
       "            1.1821e-01-5.1224e-01j],\n",
       "          [ 1.3089e-01-1.5363e-01j, -3.6771e-01-6.3282e-02j,\n",
       "            1.8061e-02+2.6472e-01j,  ...,\n",
       "            6.1360e-01-5.3637e-01j,  3.0552e-02+4.7054e-02j,\n",
       "           -8.7508e-02-1.2519e-01j]]],\n",
       "\n",
       "\n",
       "        ...,\n",
       "\n",
       "\n",
       "        [[[ 5.8905e-01-1.8245e-02j,  2.6963e-01-3.6700e-02j,\n",
       "            1.5763e-01-1.7644e-01j,  ...,\n",
       "            4.9893e-01-7.9885e-01j,  4.0499e-01-2.7683e-01j,\n",
       "            1.5768e-01-5.6221e-01j],\n",
       "          [-1.0578e-01-3.3896e-01j, -1.8269e-01-5.1847e-01j,\n",
       "            8.5263e-02-7.4736e-01j,  ...,\n",
       "            3.0977e-01-5.9499e-01j,  3.2353e-01-6.4923e-01j,\n",
       "            5.2525e-01-6.0789e-01j],\n",
       "          [ 3.5932e-01+1.1394e-01j,  1.7749e-01-2.6012e-01j,\n",
       "           -8.4776e-03-9.9302e-01j,  ...,\n",
       "           -2.0615e-01-4.9352e-01j,  3.1022e-01-3.5638e-01j,\n",
       "            6.2078e-02-6.5385e-01j],\n",
       "          ...,\n",
       "          [ 2.0973e-01-2.9985e-01j,  2.3620e-01-5.5001e-01j,\n",
       "           -2.6867e-01-6.1932e-01j,  ...,\n",
       "            1.0322e-01-3.1816e-01j, -1.7727e-01-3.6832e-01j,\n",
       "           -4.5350e-01-7.8822e-02j],\n",
       "          [-3.8209e-02+2.3444e-01j, -3.3046e-01-4.1491e-01j,\n",
       "            2.5244e-01-4.4827e-01j,  ...,\n",
       "           -2.5299e-01-6.3204e-01j,  2.0012e-01-5.9065e-01j,\n",
       "            5.2513e-01-3.4390e-01j],\n",
       "          [-1.2714e-01+1.6475e-01j,  7.8914e-02+3.8735e-01j,\n",
       "           -2.1121e-01+1.8558e-01j,  ...,\n",
       "            1.3193e-01-1.8862e-02j, -3.5387e-01+4.5104e-02j,\n",
       "            5.3666e-02-4.4707e-02j]]],\n",
       "\n",
       "\n",
       "        [[[ 2.8117e-01+1.6761e-01j,  4.3956e-01-1.9784e-01j,\n",
       "            2.0011e-01-5.9104e-01j,  ...,\n",
       "            4.8844e-01-4.3486e-01j,  4.8030e-01-6.4553e-01j,\n",
       "            5.9058e-01-9.2079e-02j],\n",
       "          [ 5.1818e-01-3.4813e-01j, -1.6249e-01-1.6342e-01j,\n",
       "           -8.0023e-02-4.2481e-01j,  ...,\n",
       "            5.8098e-01-4.6702e-01j,  3.5334e-01-7.2694e-01j,\n",
       "            3.7059e-02-3.3420e-01j],\n",
       "          [ 2.2540e-01-1.8455e-01j,  4.1042e-01-4.9673e-01j,\n",
       "           -2.0260e-01-4.7415e-01j,  ...,\n",
       "            2.9354e-01-3.8507e-01j, -3.9171e-01-2.1283e-01j,\n",
       "           -1.7041e-02-6.1134e-01j],\n",
       "          ...,\n",
       "          [ 6.4600e-02-1.9795e-01j,  1.8726e-01-2.8034e-01j,\n",
       "           -8.8561e-02-1.1373e+00j,  ...,\n",
       "           -2.8734e-02-3.7957e-01j,  6.8019e-01-6.8316e-01j,\n",
       "            1.2309e-01-3.8866e-01j],\n",
       "          [-2.9453e-02+1.0898e-01j, -2.0335e-01+5.5490e-03j,\n",
       "            5.4083e-02-6.5614e-01j,  ...,\n",
       "            6.0051e-01-5.5558e-01j,  4.7841e-01-6.4691e-01j,\n",
       "           -1.4320e-01-5.6496e-01j],\n",
       "          [-1.6171e-01+1.0498e-01j, -1.0642e-01-3.0705e-01j,\n",
       "            7.9881e-02-2.7601e-01j,  ...,\n",
       "           -3.4621e-01-3.5100e-01j, -2.2424e-01-4.4844e-02j,\n",
       "            1.0806e-01-3.8135e-01j]]],\n",
       "\n",
       "\n",
       "        [[[ 6.9461e-02+1.1453e-01j,  1.4254e-01-1.4309e-01j,\n",
       "            3.2826e-01-6.3820e-01j,  ...,\n",
       "           -4.9804e-01+8.1288e-01j, -1.1215e+00+3.3265e-01j,\n",
       "            3.4329e-01+6.3806e-01j],\n",
       "          [-1.3867e-02-4.7258e-02j,  2.5191e-01-2.6163e-01j,\n",
       "            1.6371e-01-3.1972e-01j,  ...,\n",
       "            1.0157e+00+3.9712e-01j, -3.9189e-01-1.4892e+00j,\n",
       "           -1.0761e-02-2.3305e-01j],\n",
       "          [-1.3203e-03-1.5482e-01j,  1.2951e-01-3.7941e-01j,\n",
       "            1.7691e-01-8.5862e-01j,  ...,\n",
       "            4.3142e-01+3.6700e-01j, -1.0887e+00-9.8302e-01j,\n",
       "           -5.3436e-01+6.1154e-01j],\n",
       "          ...,\n",
       "          [-3.0949e-01+1.7410e-01j, -6.9468e-01-4.2919e-01j,\n",
       "           -5.5823e-01-8.7876e-01j,  ...,\n",
       "           -5.8558e-01-3.8133e-01j,  1.7564e-01-5.7012e-01j,\n",
       "           -1.7244e-02-1.2746e+00j],\n",
       "          [ 3.3318e-01+1.6806e-01j, -2.0840e-01-7.0392e-01j,\n",
       "            5.7680e-01+3.3994e-01j,  ...,\n",
       "           -1.3286e-01-1.0310e+00j, -1.3448e-01-5.4838e-01j,\n",
       "           -4.3493e-02-1.8776e-01j],\n",
       "          [ 5.7112e-03+1.7649e-01j, -6.2564e-01-2.6059e-01j,\n",
       "            5.8960e-01+6.0645e-01j,  ...,\n",
       "            2.7681e-02-3.4351e-02j,  1.9729e-01+5.0194e-02j,\n",
       "            5.4141e-01-1.5597e-01j]]]], grad_fn=<AddBackward0>)"
      ]
     },
     "execution_count": 71,
     "metadata": {},
     "output_type": "execute_result"
    }
   ],
   "source": [
    "o"
   ]
  },
  {
   "cell_type": "code",
   "execution_count": null,
   "id": "2c4ea272-fb20-44c2-8597-52d0b2441673",
   "metadata": {},
   "outputs": [],
   "source": []
  }
 ],
 "metadata": {
  "kernelspec": {
   "display_name": "earth-text-env",
   "language": "python",
   "name": "earth-text-env"
  },
  "language_info": {
   "codemirror_mode": {
    "name": "ipython",
    "version": 3
   },
   "file_extension": ".py",
   "mimetype": "text/x-python",
   "name": "python",
   "nbconvert_exporter": "python",
   "pygments_lexer": "ipython3",
   "version": "3.12.2"
  }
 },
 "nbformat": 4,
 "nbformat_minor": 5
}
